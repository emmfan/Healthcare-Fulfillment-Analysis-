{
 "cells": [
  {
   "cell_type": "markdown",
   "id": "2b00c7d3",
   "metadata": {},
   "source": [
    "## **Healthcare Fulfillment Data Analysis**"
   ]
  },
  {
   "cell_type": "code",
   "execution_count": 4,
   "id": "e8c0bd69",
   "metadata": {},
   "outputs": [],
   "source": [
    "#import packages needed\n",
    "import warnings\n",
    "import pandas as pd\n",
    "import matplotlib.pyplot as plt\n",
    "warnings.filterwarnings('ignore')"
   ]
  },
  {
   "cell_type": "code",
   "execution_count": 5,
   "id": "df7b2111",
   "metadata": {},
   "outputs": [
    {
     "data": {
      "text/plain": [
       "Index(['Order Created Date', 'Order Number', 'Order Status', 'Medication',\n",
       "       'Dosage', 'Order Ship Date'],\n",
       "      dtype='object')"
      ]
     },
     "execution_count": 5,
     "metadata": {},
     "output_type": "execute_result"
    }
   ],
   "source": [
    "# import data\n",
    "df = pd.read_csv(\"take_home.csv\")\n",
    "df.columns"
   ]
  },
  {
   "cell_type": "code",
   "execution_count": 6,
   "id": "53d5418d",
   "metadata": {},
   "outputs": [
    {
     "data": {
      "text/plain": [
       "array(['Order Complete', 'In Process', 'Awaiting Clarification',\n",
       "       'Future Orders', 'Order Received', 'Unable To Fill',\n",
       "       'Prescription on Hold', nan, 'Order Denied'], dtype=object)"
      ]
     },
     "execution_count": 6,
     "metadata": {},
     "output_type": "execute_result"
    }
   ],
   "source": [
    "## All status\n",
    "df['Order Status'].unique()"
   ]
  },
  {
   "cell_type": "code",
   "execution_count": 7,
   "id": "441eafe9",
   "metadata": {},
   "outputs": [],
   "source": [
    "# tranform dates data type for analysis\n",
    "df['Order Created Date'] = pd.to_datetime( df['Order Created Date'], format = \"%m/%d/%y\", errors = \"coerce\" )\n",
    "df['Order Ship Date'] = pd.to_datetime( df['Order Ship Date'], format = \"%m/%d/%y\", errors = \"coerce\" )\n",
    "df['Fulfillment Time'] = (df['Order Ship Date'] - df['Order Created Date']).dt.days"
   ]
  },
  {
   "cell_type": "code",
   "execution_count": 8,
   "id": "e4be814c",
   "metadata": {},
   "outputs": [
    {
     "name": "stdout",
     "output_type": "stream",
     "text": [
      "Date range: 2025-05-28 to 2025-06-12\n",
      "Total duration: 15 days\n"
     ]
    }
   ],
   "source": [
    "## check time span of data\n",
    "start_date = pd.to_datetime(df['Order Created Date'].min())\n",
    "end_date = pd.to_datetime(df['Order Created Date'].max())\n",
    "date_range = end_date - start_date\n",
    "\n",
    "print(\"Date range:\", start_date.date(), \"to\", end_date.date())\n",
    "print(\"Total duration:\", date_range.days, \"days\")"
   ]
  },
  {
   "cell_type": "code",
   "execution_count": 9,
   "id": "d8dd5a87",
   "metadata": {},
   "outputs": [
    {
     "data": {
      "text/html": [
       "<div>\n",
       "<style scoped>\n",
       "    .dataframe tbody tr th:only-of-type {\n",
       "        vertical-align: middle;\n",
       "    }\n",
       "\n",
       "    .dataframe tbody tr th {\n",
       "        vertical-align: top;\n",
       "    }\n",
       "\n",
       "    .dataframe thead th {\n",
       "        text-align: right;\n",
       "    }\n",
       "</style>\n",
       "<table border=\"1\" class=\"dataframe\">\n",
       "  <thead>\n",
       "    <tr style=\"text-align: right;\">\n",
       "      <th></th>\n",
       "      <th>Order Created Date</th>\n",
       "      <th>Order Number</th>\n",
       "      <th>Order Ship Date</th>\n",
       "      <th>Fulfillment Time</th>\n",
       "    </tr>\n",
       "  </thead>\n",
       "  <tbody>\n",
       "    <tr>\n",
       "      <th>count</th>\n",
       "      <td>26863</td>\n",
       "      <td>26863.000000</td>\n",
       "      <td>25026</td>\n",
       "      <td>25026.000000</td>\n",
       "    </tr>\n",
       "    <tr>\n",
       "      <th>mean</th>\n",
       "      <td>2025-06-04 00:54:50.295201536</td>\n",
       "      <td>13432.000000</td>\n",
       "      <td>2025-06-06 14:56:38.897147392</td>\n",
       "      <td>2.981140</td>\n",
       "    </tr>\n",
       "    <tr>\n",
       "      <th>min</th>\n",
       "      <td>2025-05-28 00:00:00</td>\n",
       "      <td>1.000000</td>\n",
       "      <td>2025-05-29 00:00:00</td>\n",
       "      <td>0.000000</td>\n",
       "    </tr>\n",
       "    <tr>\n",
       "      <th>25%</th>\n",
       "      <td>2025-05-31 00:00:00</td>\n",
       "      <td>6716.500000</td>\n",
       "      <td>2025-06-04 00:00:00</td>\n",
       "      <td>1.000000</td>\n",
       "    </tr>\n",
       "    <tr>\n",
       "      <th>50%</th>\n",
       "      <td>2025-06-03 00:00:00</td>\n",
       "      <td>13432.000000</td>\n",
       "      <td>2025-06-05 00:00:00</td>\n",
       "      <td>3.000000</td>\n",
       "    </tr>\n",
       "    <tr>\n",
       "      <th>75%</th>\n",
       "      <td>2025-06-08 00:00:00</td>\n",
       "      <td>20147.500000</td>\n",
       "      <td>2025-06-09 00:00:00</td>\n",
       "      <td>4.000000</td>\n",
       "    </tr>\n",
       "    <tr>\n",
       "      <th>max</th>\n",
       "      <td>2025-06-12 00:00:00</td>\n",
       "      <td>26863.000000</td>\n",
       "      <td>2025-06-12 00:00:00</td>\n",
       "      <td>15.000000</td>\n",
       "    </tr>\n",
       "    <tr>\n",
       "      <th>std</th>\n",
       "      <td>NaN</td>\n",
       "      <td>7754.824477</td>\n",
       "      <td>NaN</td>\n",
       "      <td>2.015357</td>\n",
       "    </tr>\n",
       "  </tbody>\n",
       "</table>\n",
       "</div>"
      ],
      "text/plain": [
       "                  Order Created Date  Order Number  \\\n",
       "count                          26863  26863.000000   \n",
       "mean   2025-06-04 00:54:50.295201536  13432.000000   \n",
       "min              2025-05-28 00:00:00      1.000000   \n",
       "25%              2025-05-31 00:00:00   6716.500000   \n",
       "50%              2025-06-03 00:00:00  13432.000000   \n",
       "75%              2025-06-08 00:00:00  20147.500000   \n",
       "max              2025-06-12 00:00:00  26863.000000   \n",
       "std                              NaN   7754.824477   \n",
       "\n",
       "                     Order Ship Date  Fulfillment Time  \n",
       "count                          25026      25026.000000  \n",
       "mean   2025-06-06 14:56:38.897147392          2.981140  \n",
       "min              2025-05-29 00:00:00          0.000000  \n",
       "25%              2025-06-04 00:00:00          1.000000  \n",
       "50%              2025-06-05 00:00:00          3.000000  \n",
       "75%              2025-06-09 00:00:00          4.000000  \n",
       "max              2025-06-12 00:00:00         15.000000  \n",
       "std                              NaN          2.015357  "
      ]
     },
     "execution_count": 9,
     "metadata": {},
     "output_type": "execute_result"
    }
   ],
   "source": [
    "# summary \n",
    "df.describe()"
   ]
  },
  {
   "cell_type": "code",
   "execution_count": 10,
   "id": "5f1945df",
   "metadata": {},
   "outputs": [
    {
     "data": {
      "text/html": [
       "<div>\n",
       "<style scoped>\n",
       "    .dataframe tbody tr th:only-of-type {\n",
       "        vertical-align: middle;\n",
       "    }\n",
       "\n",
       "    .dataframe tbody tr th {\n",
       "        vertical-align: top;\n",
       "    }\n",
       "\n",
       "    .dataframe thead th {\n",
       "        text-align: right;\n",
       "    }\n",
       "</style>\n",
       "<table border=\"1\" class=\"dataframe\">\n",
       "  <thead>\n",
       "    <tr style=\"text-align: right;\">\n",
       "      <th></th>\n",
       "      <th>Order Status Count</th>\n",
       "      <th>Percentage of Total</th>\n",
       "    </tr>\n",
       "    <tr>\n",
       "      <th>Order Status</th>\n",
       "      <th></th>\n",
       "      <th></th>\n",
       "    </tr>\n",
       "  </thead>\n",
       "  <tbody>\n",
       "    <tr>\n",
       "      <th>Order Complete</th>\n",
       "      <td>25023</td>\n",
       "      <td>0.93150</td>\n",
       "    </tr>\n",
       "    <tr>\n",
       "      <th>In Process</th>\n",
       "      <td>1277</td>\n",
       "      <td>0.04754</td>\n",
       "    </tr>\n",
       "    <tr>\n",
       "      <th>Order Received</th>\n",
       "      <td>439</td>\n",
       "      <td>0.01634</td>\n",
       "    </tr>\n",
       "    <tr>\n",
       "      <th>Awaiting Clarification</th>\n",
       "      <td>58</td>\n",
       "      <td>0.00216</td>\n",
       "    </tr>\n",
       "    <tr>\n",
       "      <th>Unable To Fill</th>\n",
       "      <td>27</td>\n",
       "      <td>0.00101</td>\n",
       "    </tr>\n",
       "    <tr>\n",
       "      <th>Future Orders</th>\n",
       "      <td>12</td>\n",
       "      <td>0.00045</td>\n",
       "    </tr>\n",
       "    <tr>\n",
       "      <th>Prescription on Hold</th>\n",
       "      <td>9</td>\n",
       "      <td>0.00034</td>\n",
       "    </tr>\n",
       "    <tr>\n",
       "      <th>Order Denied</th>\n",
       "      <td>1</td>\n",
       "      <td>0.00004</td>\n",
       "    </tr>\n",
       "  </tbody>\n",
       "</table>\n",
       "</div>"
      ],
      "text/plain": [
       "                        Order Status Count  Percentage of Total\n",
       "Order Status                                                   \n",
       "Order Complete                       25023              0.93150\n",
       "In Process                            1277              0.04754\n",
       "Order Received                         439              0.01634\n",
       "Awaiting Clarification                  58              0.00216\n",
       "Unable To Fill                          27              0.00101\n",
       "Future Orders                           12              0.00045\n",
       "Prescription on Hold                     9              0.00034\n",
       "Order Denied                             1              0.00004"
      ]
     },
     "execution_count": 10,
     "metadata": {},
     "output_type": "execute_result"
    }
   ],
   "source": [
    "# check percentages of orders by status\n",
    "order_status_counts = df['Order Status'].value_counts()\n",
    "total_orders = len(df)\n",
    "status_percentages = (order_status_counts / total_orders).round(5)\n",
    "Order_Status_Summary = pd.DataFrame( {'Order Status Count': order_status_counts, \"Percentage of Total\": status_percentages })\n",
    "Order_Status_Summary"
   ]
  },
  {
   "cell_type": "code",
   "execution_count": 11,
   "id": "f51f8204",
   "metadata": {},
   "outputs": [
    {
     "data": {
      "image/png": "[encoded data removed]",
      "text/plain": [
       "<Figure size 800x400 with 1 Axes>"
      ]
     },
     "metadata": {},
     "output_type": "display_data"
    }
   ],
   "source": [
    "# visualize average fulfillment time by medication + dosage\n",
    "df['Medication_Dosage'] = df['Medication'] + ' ' + df['Dosage']\n",
    "avg_fulfillment_by_med = df.groupby('Medication_Dosage')['Fulfillment Time'].mean().sort_values()\n",
    "\n",
    "top_avg_fulfillment = avg_fulfillment_by_med.sort_values(ascending=False)\n",
    "plt.figure(figsize=(8, 4))\n",
    "top_avg_fulfillment.plot(kind='barh', color='skyblue')\n",
    "plt.xlabel('Average Fulfillment Time (days)')\n",
    "plt.ylabel('Medication + Dosage')\n",
    "plt.title('Average Fulfillment Time by Med')\n",
    "plt.gca().invert_yaxis()  \n",
    "plt.tight_layout()\n",
    "plt.show()"
   ]
  },
  {
   "cell_type": "code",
   "execution_count": 12,
   "id": "948c9ec9",
   "metadata": {},
   "outputs": [
    {
     "data": {
      "text/html": [
       "<div>\n",
       "<style scoped>\n",
       "    .dataframe tbody tr th:only-of-type {\n",
       "        vertical-align: middle;\n",
       "    }\n",
       "\n",
       "    .dataframe tbody tr th {\n",
       "        vertical-align: top;\n",
       "    }\n",
       "\n",
       "    .dataframe thead th {\n",
       "        text-align: right;\n",
       "    }\n",
       "</style>\n",
       "<table border=\"1\" class=\"dataframe\">\n",
       "  <thead>\n",
       "    <tr style=\"text-align: right;\">\n",
       "      <th></th>\n",
       "      <th>Medication_Dosage</th>\n",
       "      <th>Number of Delayed</th>\n",
       "    </tr>\n",
       "  </thead>\n",
       "  <tbody>\n",
       "    <tr>\n",
       "      <th>2</th>\n",
       "      <td>TIRZEPATIDE 17mg</td>\n",
       "      <td>29</td>\n",
       "    </tr>\n",
       "    <tr>\n",
       "      <th>1</th>\n",
       "      <td>SEMAGLUTIDE 5mg</td>\n",
       "      <td>28</td>\n",
       "    </tr>\n",
       "    <tr>\n",
       "      <th>0</th>\n",
       "      <td>SEMAGLUTIDE 1mg</td>\n",
       "      <td>17</td>\n",
       "    </tr>\n",
       "    <tr>\n",
       "      <th>3</th>\n",
       "      <td>TIRZEPATIDE 8mg</td>\n",
       "      <td>10</td>\n",
       "    </tr>\n",
       "  </tbody>\n",
       "</table>\n",
       "</div>"
      ],
      "text/plain": [
       "  Medication_Dosage  Number of Delayed\n",
       "2  TIRZEPATIDE 17mg                 29\n",
       "1   SEMAGLUTIDE 5mg                 28\n",
       "0   SEMAGLUTIDE 1mg                 17\n",
       "3   TIRZEPATIDE 8mg                 10"
      ]
     },
     "execution_count": 12,
     "metadata": {},
     "output_type": "execute_result"
    }
   ],
   "source": [
    "# check types & counts of delayed orders\n",
    "Delayed_or_Unfulfilled_Orders = df[df['Order Status'].isin(['Awaiting Clarification','Prescription on Hold']) \n",
    "| df['Order Status'].isna()].groupby('Medication_Dosage').size()\n",
    "\n",
    "Delayed_or_Unfulfilled_Orders = Delayed_or_Unfulfilled_Orders.reset_index(name='Number of Delayed')\n",
    "Delayed_or_Unfulfilled_Orders = Delayed_or_Unfulfilled_Orders.sort_values('Number of Delayed', ascending=False)\n",
    "Delayed_or_Unfulfilled_Orders"
   ]
  },
  {
   "cell_type": "code",
   "execution_count": 13,
   "id": "5afea68f",
   "metadata": {},
   "outputs": [
    {
     "data": {
      "text/html": [
       "<div>\n",
       "<style scoped>\n",
       "    .dataframe tbody tr th:only-of-type {\n",
       "        vertical-align: middle;\n",
       "    }\n",
       "\n",
       "    .dataframe tbody tr th {\n",
       "        vertical-align: top;\n",
       "    }\n",
       "\n",
       "    .dataframe thead th {\n",
       "        text-align: right;\n",
       "    }\n",
       "</style>\n",
       "<table border=\"1\" class=\"dataframe\">\n",
       "  <thead>\n",
       "    <tr style=\"text-align: right;\">\n",
       "      <th></th>\n",
       "      <th>Total Orders</th>\n",
       "      <th>Failed Orders</th>\n",
       "      <th>Failure Rate (%)</th>\n",
       "    </tr>\n",
       "    <tr>\n",
       "      <th>Medication_Dosage</th>\n",
       "      <th></th>\n",
       "      <th></th>\n",
       "      <th></th>\n",
       "    </tr>\n",
       "  </thead>\n",
       "  <tbody>\n",
       "    <tr>\n",
       "      <th>TIRZEPATIDE 17mg</th>\n",
       "      <td>9902</td>\n",
       "      <td>23</td>\n",
       "      <td>0.23</td>\n",
       "    </tr>\n",
       "    <tr>\n",
       "      <th>SEMAGLUTIDE 5mg</th>\n",
       "      <td>8371</td>\n",
       "      <td>13</td>\n",
       "      <td>0.16</td>\n",
       "    </tr>\n",
       "    <tr>\n",
       "      <th>TIRZEPATIDE 8mg</th>\n",
       "      <td>4875</td>\n",
       "      <td>6</td>\n",
       "      <td>0.12</td>\n",
       "    </tr>\n",
       "    <tr>\n",
       "      <th>SEMAGLUTIDE 1mg</th>\n",
       "      <td>3715</td>\n",
       "      <td>3</td>\n",
       "      <td>0.08</td>\n",
       "    </tr>\n",
       "  </tbody>\n",
       "</table>\n",
       "</div>"
      ],
      "text/plain": [
       "                   Total Orders  Failed Orders  Failure Rate (%)\n",
       "Medication_Dosage                                               \n",
       "TIRZEPATIDE 17mg           9902             23              0.23\n",
       "SEMAGLUTIDE 5mg            8371             13              0.16\n",
       "TIRZEPATIDE 8mg            4875              6              0.12\n",
       "SEMAGLUTIDE 1mg            3715              3              0.08"
      ]
     },
     "execution_count": 13,
     "metadata": {},
     "output_type": "execute_result"
    }
   ],
   "source": [
    "# Investigate failied orders \n",
    "unsuccessful_mask = df['Order Status'].isin(['Unable To Fill', 'Order Denied']) | df['Order Status'].isna()\n",
    "total_by_dosage = df.groupby('Medication_Dosage').size()\n",
    "\n",
    "# Failed count per dosage\n",
    "failures_by_dosage = df[unsuccessful_mask].groupby('Medication_Dosage').size()\n",
    "failure_rate = (failures_by_dosage / total_by_dosage * 100).fillna(0).round(2)\n",
    "failure_summary = pd.DataFrame({\n",
    "    'Total Orders': total_by_dosage,\n",
    "    'Failed Orders': failures_by_dosage,\n",
    "    'Failure Rate (%)': failure_rate\n",
    "}).fillna(0).sort_values('Failure Rate (%)', ascending=False)\n",
    "failure_summary"
   ]
  },
  {
   "cell_type": "markdown",
   "id": "c5a41daf",
   "metadata": {},
   "source": [
    "# **Trend Analysis**\n"
   ]
  },
  {
   "cell_type": "markdown",
   "id": "784aa8b5",
   "metadata": {},
   "source": [
    "### High Completion Rate, But Nontrivial Delays\n",
    "- Out of approximately 26,863 total orders, about 25,023 were marked as “Order Complete”, indicating a strong overall throughput. However, around 1,800+ orders are in non-complete statuses\n",
    "-->   This means while most orders are completed, there is a significant volume of delays or unfulfilled requests, which can impact service reliability\n",
    "\n",
    "- Among all exception orders, higher-dosage medications consistently happen more frequently"
   ]
  },
  {
   "cell_type": "markdown",
   "id": "7fdfe5ee",
   "metadata": {},
   "source": [
    "### Average Fulfillment Time \n",
    "- The time of the data set ranges from 2025-05-28 to 2025-06-12, 15 days in total\n",
    "- The average fulfillment time is 3 days, The maximum fulfillment time stretches up to 15 days\n",
    "- 25% of orders are fulfilled within 1 day, 75% of orders are fulfilled within 4 days\n",
    "- SEMAGLUTIDE 5mg and TIRZEPATIDE 17 mg have some of the highest average fulfillment times\n",
    "\n"
   ]
  },
  {
   "cell_type": "markdown",
   "id": "03ba7a23",
   "metadata": {},
   "source": [
    "# **Action Plan**\n",
    "While the pharmacy demonstrates strong order completion volume, the fulfillment timeline shows significant variability, with a median of 3 days and a maximum delay of 15 days. Additionally, over 5% of orders are delayed or unresolved, which risks disrupting patient care. To ensure ultra-high service levels, the pharmacy must reduce turnaround time variability and resolve delays faster."
   ]
  },
  {
   "cell_type": "markdown",
   "id": "63d0b014",
   "metadata": {},
   "source": [
    "1. Set Fulfillment Benchmarks\n",
    "- Establish a clear target: ≥95% of orders shipped within 2 business days\n",
    "- Categorize medications by average fulfillment time and prioritize optimization for those exceeding the service level agreement\n"
   ]
  },
  {
   "cell_type": "markdown",
   "id": "9da7b1c2",
   "metadata": {},
   "source": [
    "2. Implement Daily Exception Reporting\n",
    "- Flag all orders “In Process” or “Awaiting Clarification” beyond 2 days\n",
    "- Require status updates with reasons and estimated ship times for delayed orders\n"
   ]
  },
  {
   "cell_type": "markdown",
   "id": "1c92baf1",
   "metadata": {},
   "source": [
    "3. Address Bottlenecks in Compounding or Approval\n",
    "- Investigate medications with the longest average fulfillment times\n",
    "- Cross-train staff or adjust batching protocols to smooth peaks"
   ]
  },
  {
   "cell_type": "markdown",
   "id": "b616f679",
   "metadata": {},
   "source": [
    "4. Schedule Weekly Performance Reviews\n",
    "- Review KPI trends with Mochi: average fulfillment time, % delayed, % failed\n",
    "- Use this to guide staffing and process changes\n"
   ]
  }
 ],
 "metadata": {
  "kernelspec": {
   "display_name": "base",
   "language": "python",
   "name": "python3"
  },
  "language_info": {
   "codemirror_mode": {
    "name": "ipython",
    "version": 3
   },
   "file_extension": ".py",
   "mimetype": "text/x-python",
   "name": "python",
   "nbconvert_exporter": "python",
   "pygments_lexer": "ipython3",
   "version": "3.12.2"
  }
 },
 "nbformat": 4,
 "nbformat_minor": 5
}
